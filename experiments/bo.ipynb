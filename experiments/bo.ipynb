{
 "cells": [
  {
   "cell_type": "code",
   "execution_count": 1,
   "metadata": {},
   "outputs": [],
   "source": [
    "import sys\n",
    "import os\n",
    "\n",
    "SCRIPT_DIR = os.path.dirname(os.path.abspath(os.getcwd()))\n",
    "sys.path.append(SCRIPT_DIR)\n",
    "\n",
    "import numpy as np\n",
    "\n",
    "import rcgp.bo as bayesian_optimisation\n",
    "import gpflow\n",
    "import time\n",
    "\n",
    "import matplotlib.pyplot as plt\n",
    "CB_color_cycle = ['#377eb8', '#ff7f00', '#4daf4a',\n",
    "                  '#f781bf', '#a65628', '#984ea3',\n",
    "                  '#999999', '#e41a1c', '#dede00']\n",
    "%matplotlib inline\n"
   ]
  },
  {
   "cell_type": "code",
   "execution_count": 109,
   "metadata": {},
   "outputs": [],
   "source": [
    "class Camel:\n",
    "    def __init__(self, outliers=0.1) -> None:\n",
    "        self.max = 1.0316\n",
    "        self.bounds = np.array([[-2.0, 2.0], [-1.0, 1.0]])\n",
    "        self.dims = 2\n",
    "        self.outliers = outliers\n",
    "        self.name = 'Camel'\n",
    "    def __call__(self, x):\n",
    "        x1 = x[:,0]\n",
    "        x2 = x[:,1]\n",
    "        term1 = (4-2.1*x1**2+(x1**4)/3) * x1**2\n",
    "        term2 = x1*x2\n",
    "        term3 = (-4+4*x2**2) * x2**2\n",
    "        y = term1 + term2 + term3\n",
    "        if np.random.random()<self.outliers:\n",
    "            y += np.random.uniform()\n",
    "        return -(y.reshape(-1,1))"
   ]
  },
  {
   "cell_type": "code",
   "execution_count": 110,
   "metadata": {},
   "outputs": [],
   "source": [
    "class Branin:\n",
    "    def __init__(self, outliers = 0.1) -> None:\n",
    "        self.max = -0.397887\n",
    "        self.bounds = np.array([[-5.0, 10.0], [0.0, 15.0]])\n",
    "        self.dims = 2\n",
    "        self.a=1\n",
    "        self.b=5.1/(4*np.pi**2)\n",
    "        self.c = 5/np.pi\n",
    "        self.r=6\n",
    "        self.s=10\n",
    "        self.t=1/(8*np.pi)\n",
    "        self.name = 'Branin'\n",
    "        self.outliers = outliers\n",
    "\n",
    "    def __call__(self, x):\n",
    "        x1 = x[:,0]\n",
    "        x2 = x[:,1]\n",
    "        term1 = self.a * (x2 - self.b*x1**2 + self.c*x1 - self.r)**2\n",
    "        term2 = self.s*(1-self.t)*np.cos(x1)\n",
    "        y = term1 + term2 + self.s\n",
    "        if np.random.random()<self.outliers:\n",
    "            y += np.random.uniform()\n",
    "        return -(y.reshape(-1,1))"
   ]
  },
  {
   "cell_type": "code",
   "execution_count": null,
   "metadata": {},
   "outputs": [],
   "source": [
    "regrets = {'Camel':{\n",
    "                    'standard':[],\n",
    "                    'robust': [],\n",
    "                    'student-t':[]},\n",
    "            'Branin':{\n",
    "                    'standard':[],\n",
    "                    'robust': [],\n",
    "                    'student-t':[]}}\n",
    "times = {'Camel':{\n",
    "                    'standard':[],\n",
    "                    'robust': [],\n",
    "                    'student-t':[]},\n",
    "            'Branin':{\n",
    "                    'standard':[],\n",
    "                    'robust': [],\n",
    "                    'student-t':[]}}"
   ]
  },
  {
   "cell_type": "code",
   "execution_count": 18,
   "metadata": {},
   "outputs": [
    {
     "name": "stdout",
     "output_type": "stream",
     "text": [
      "function Camel\n",
      "BO standard\n",
      "Iteration 0\n",
      "Iteration 10\n",
      "Iteration 20\n",
      "Iteration 30\n",
      "Iteration 40\n",
      "standard <__main__.Camel object at 0x32e68baf0> (array([-0.13155587,  0.66994803]), array([1.00906177]))\n",
      "BO robust\n",
      "Iteration 0\n",
      "Iteration 10\n",
      "Iteration 20\n",
      "Iteration 30\n",
      "Iteration 40\n",
      "robust <__main__.Camel object at 0x32e68baf0> (array([-0.13155587,  0.66994803]), array([1.00906177]))\n",
      "BO student-t\n",
      "Iteration 0\n",
      "Iteration 10\n",
      "Iteration 20\n",
      "Iteration 30\n",
      "Iteration 40\n",
      "student-t <__main__.Camel object at 0x32e68baf0> (array([ 0.08956838, -0.70930307]), array([1.03153742]))\n"
     ]
    }
   ],
   "source": [
    "BASE_SEED = 12345\n",
    "types = ['standard','robust','student-t']\n",
    "\n",
    "functions = [ Camel(),Branin()]\n",
    "#acq_function = bayesian_optimisation.AcquisitionFunction(kind=\"ei\", xi=1)\n",
    "#acq_function = bayesian_optimisation.AcquisitionFunction(kind=\"ucb\", kappa=3)\n",
    "acq_function = bayesian_optimisation.AcquisitionFunction(kind=\"ucb\")\n",
    "kernel = gpflow.kernels.SquaredExponential()\n",
    "n_iter = 50\n",
    "rng = np.random.default_rng(1234)\n",
    "for function in functions:\n",
    "    print('function', function.name)\n",
    "    X_init = rng.uniform(function.bounds[:,0],function.bounds[:,1],size=(1,function.dims))\n",
    "    Y_init = function(X_init)\n",
    "    for type in types:\n",
    "        print('BO', type)\n",
    "        bo = bayesian_optimisation.BayesianOptimisation(function, \n",
    "                                                acq_function, \n",
    "                                                kernel, \n",
    "                                                gp_kind=type, \n",
    "                                                bounds=function.bounds)\n",
    "        for i in range(n_iter):\n",
    "            if i%10==0:\n",
    "                print('Iteration',i)\n",
    "            time_before = time.time()\n",
    "            result = bo.optimisation(n_iter=1, X_init=X_init, Y_init=Y_init, n_restarts=2)\n",
    "            time_after = time.time()\n",
    "            X_init = np.vstack((bo.X_sample, bo.X_next))\n",
    "            Y_init = np.vstack((bo.Y_sample, bo.Y_next))\n",
    "            regrets[function.name][type].append(function.max-result[1][0])\n",
    "            times[function.name][type].append(time_after-time_before)\n",
    "        print(type, function, result)\n"
   ]
  },
  {
   "cell_type": "code",
   "execution_count": 103,
   "metadata": {},
   "outputs": [
    {
     "data": {
      "image/png": "[encoded data removed]",
      "text/plain": [
       "<Figure size 325x200 with 4 Axes>"
      ]
     },
     "metadata": {},
     "output_type": "display_data"
    }
   ],
   "source": [
    "from tueplots import bundles\n",
    "colors = ['#4daf4a', '#377eb8', '#ff7f00']\n",
    "gps = ['GP', 'RCGP', 't-GP']\n",
    "with plt.rc_context(bundles.aistats2023()):\n",
    "    fig, ax = plt.subplots(ncols=2, nrows=2, sharex=True,figsize=(3.25, 2), sharey='row')\n",
    "    for i, function in enumerate(functions):\n",
    "        for j , type in enumerate(types):\n",
    "            if type == 'robust':\n",
    "                ax[0,i].plot(np.cumsum(regrets[function.name][type]),label=gps[j] , c = colors[j], ls = '--', zorder=10, dashes=(5, 5))\n",
    "                ax[1,i].plot(np.cumsum(times[function.name][type]),  c = colors[j], ls = '--', zorder=10, dashes=(5, 5))\n",
    "            else:\n",
    "                ax[0,i].plot(np.cumsum(regrets[function.name][type]),label=gps[j] , c = colors[j])\n",
    "                ax[1,i].plot(np.cumsum(times[function.name][type]),  c = colors[j])\n",
    "    ax[0,0].set_title('Six-hump Camel function')\n",
    "    ax[0,0].set_ylabel('Cumulative \\n regret')\n",
    "    ax[0,1].set_title('Branin function')\n",
    "    ax[1,0].set_ylabel('Time [s]')\n",
    "    ax[1,1].set_xlabel('Iteration')\n",
    "    ax[1,0].set_xlabel('Iteration')\n",
    "    ax[0,0].legend(fontsize=6.5, handlelength=4)\n",
    "    fig.savefig('figures/bo.pdf')\n",
    "plt.show()"
   ]
  },
  {
   "cell_type": "code",
   "execution_count": 95,
   "metadata": {},
   "outputs": [],
   "source": [
    "import pickle \n",
    "\n",
    "with open('bo_times.pkl', 'wb') as f:\n",
    "    pickle.dump(times, f)\n",
    "\n",
    "with open('bo_regrets.pkl', 'wb') as f:\n",
    "    pickle.dump(regrets, f)"
   ]
  },
  {
   "cell_type": "code",
   "execution_count": 131,
   "metadata": {},
   "outputs": [],
   "source": [
    "with open('results/bo/bo_times.pkl', 'rb') as f:\n",
    "    loaded_times = pickle.load(f)\n",
    "\n",
    "with open('results/bo/bo_regrets.pkl', 'rb') as f:\n",
    "    loaded_regrets = pickle.load(f)"
   ]
  },
  {
   "cell_type": "code",
   "execution_count": 108,
   "metadata": {},
   "outputs": [
    {
     "data": {
      "image/png": "[encoded data removed]",
      "text/plain": [
       "<Figure size 325x200 with 4 Axes>"
      ]
     },
     "metadata": {},
     "output_type": "display_data"
    }
   ],
   "source": [
    "from tueplots import bundles\n",
    "colors = ['#4daf4a', '#377eb8', '#ff7f00']\n",
    "gps = ['GP', 'RCGP', 't-GP']\n",
    "with plt.rc_context(bundles.aistats2023()):\n",
    "    fig, ax = plt.subplots(ncols=2, nrows=2, sharex=True,figsize=(3.25, 2), sharey='row')\n",
    "    for i, function in enumerate(functions):\n",
    "        for j , type in enumerate(types):\n",
    "            if type == 'robust':\n",
    "                ax[0,i].plot(np.cumsum(loaded_regrets[function.name][type]),label=gps[j] , c = colors[j], ls = '--', zorder=10)\n",
    "                ax[1,i].plot(np.cumsum(loaded_times[function.name][type]),  c = colors[j], ls = '--', zorder=10)\n",
    "            else:\n",
    "                ax[0,i].plot(np.cumsum(loaded_regrets[function.name][type]),label=gps[j] , c = colors[j])\n",
    "                ax[1,i].plot(np.cumsum(loaded_times[function.name][type]),  c = colors[j])\n",
    "    ax[0,0].set_title('Six-hump Camel function')\n",
    "    ax[0,0].set_ylim(-1, 15)\n",
    "    ax[1,1].set_ylim(-1, 500)\n",
    "    ax[0,0].set_ylabel('Cumulative \\n regret')\n",
    "    ax[0,1].set_title('Branin function')\n",
    "    ax[1,0].set_ylabel('Time [s]')\n",
    "    ax[1,1].set_xlabel('Iteration')\n",
    "    ax[1,0].set_xlabel('Iteration')\n",
    "    ax[0,0].legend()"
   ]
  },
  {
   "cell_type": "code",
   "execution_count": 111,
   "metadata": {},
   "outputs": [
    {
     "name": "stdout",
     "output_type": "stream",
     "text": [
      "function Camel\n",
      "BO standard\n",
      "Iteration 0\n",
      "Iteration 10\n",
      "Iteration 20\n",
      "Iteration 30\n",
      "Iteration 40\n",
      "standard <__main__.Camel object at 0x2d92884f0> (array([ 0.08745884, -0.70431472]), array([1.03106295]))\n",
      "BO robust\n",
      "Iteration 0\n",
      "Iteration 10\n",
      "Iteration 20\n",
      "Iteration 30\n",
      "Iteration 40\n",
      "robust <__main__.Camel object at 0x2d92884f0> (array([ 0.08745884, -0.70431472]), array([1.03106295]))\n",
      "BO student-t\n",
      "Iteration 0\n",
      "Iteration 10\n",
      "Iteration 20\n",
      "Iteration 30\n",
      "Iteration 40\n",
      "student-t <__main__.Camel object at 0x2d92884f0> (array([ 0.08745884, -0.70431472]), array([1.03106295]))\n",
      "function Branin\n",
      "BO standard\n",
      "Iteration 0\n",
      "Iteration 10\n",
      "Iteration 20\n",
      "Iteration 30\n",
      "Iteration 40\n",
      "standard <__main__.Branin object at 0x2d9157eb0> (array([3.13311999, 2.16894721]), array([-0.41092643]))\n",
      "BO robust\n",
      "Iteration 0\n",
      "Iteration 10\n",
      "Iteration 20\n",
      "Iteration 30\n",
      "Iteration 40\n",
      "robust <__main__.Branin object at 0x2d9157eb0> (array([3.13311999, 2.16894721]), array([-0.41092643]))\n",
      "BO student-t\n",
      "Iteration 0\n",
      "Iteration 10\n",
      "Iteration 20\n",
      "Iteration 30\n",
      "Iteration 40\n",
      "student-t <__main__.Branin object at 0x2d9157eb0> (array([3.13311999, 2.16894721]), array([-0.41092643]))\n"
     ]
    }
   ],
   "source": [
    "BASE_SEED = 12345\n",
    "types = ['standard','robust','student-t']\n",
    "\n",
    "functions = [ Camel(outliers=0),Branin(outliers=0)]\n",
    "#acq_function = bayesian_optimisation.AcquisitionFunction(kind=\"ei\", xi=1)\n",
    "#acq_function = bayesian_optimisation.AcquisitionFunction(kind=\"ucb\", kappa=3)\n",
    "acq_function = bayesian_optimisation.AcquisitionFunction(kind=\"ucb\")\n",
    "kernel = gpflow.kernels.SquaredExponential()\n",
    "n_iter = 50\n",
    "rng = np.random.default_rng(1234)\n",
    "for function in functions:\n",
    "    print('function', function.name)\n",
    "    X_init = rng.uniform(function.bounds[:,0],function.bounds[:,1],size=(1,function.dims))\n",
    "    Y_init = function(X_init)\n",
    "    for type in types:\n",
    "        print('BO', type)\n",
    "        bo = bayesian_optimisation.BayesianOptimisation(function, \n",
    "                                                acq_function, \n",
    "                                                kernel, \n",
    "                                                gp_kind=type, \n",
    "                                                bounds=function.bounds)\n",
    "        for i in range(n_iter):\n",
    "            if i%10==0:\n",
    "                print('Iteration',i)\n",
    "            time_before = time.time()\n",
    "            result = bo.optimisation(n_iter=1, X_init=X_init, Y_init=Y_init, n_restarts=2)\n",
    "            time_after = time.time()\n",
    "            X_init = np.vstack((bo.X_sample, bo.X_next))\n",
    "            Y_init = np.vstack((bo.Y_sample, bo.Y_next))\n",
    "            regrets[function.name][type].append(function.max-result[1][0])\n",
    "            times[function.name][type].append(time_after-time_before)\n",
    "        print(type, function, result)\n"
   ]
  },
  {
   "cell_type": "code",
   "execution_count": 117,
   "metadata": {},
   "outputs": [],
   "source": [
    "import pickle \n",
    "\n",
    "with open('bo_times_no_outliers.pkl', 'wb') as f:\n",
    "    pickle.dump(times, f)\n",
    "\n",
    "with open('bo_regrets_no_outliers.pkl', 'wb') as f:\n",
    "    pickle.dump(regrets, f)"
   ]
  },
  {
   "cell_type": "code",
   "execution_count": 118,
   "metadata": {},
   "outputs": [],
   "source": [
    "with open('bo_times.pkl', 'rb') as f:\n",
    "    loaded_times = pickle.load(f)\n",
    "\n",
    "with open('bo_regrets.pkl', 'rb') as f:\n",
    "    loaded_regrets = pickle.load(f)"
   ]
  },
  {
   "cell_type": "code",
   "execution_count": 123,
   "metadata": {},
   "outputs": [
    {
     "data": {
      "text/plain": [
       "{'text.usetex': True,\n",
       " 'font.family': 'serif',\n",
       " 'text.latex.preamble': '\\\\usepackage{times} ',\n",
       " 'figure.figsize': (6.75, 4.171729424061791),\n",
       " 'figure.constrained_layout.use': True,\n",
       " 'figure.autolayout': False,\n",
       " 'savefig.bbox': 'tight',\n",
       " 'savefig.pad_inches': 0.015,\n",
       " 'font.size': 9,\n",
       " 'axes.labelsize': 9,\n",
       " 'legend.fontsize': 7,\n",
       " 'xtick.labelsize': 7,\n",
       " 'ytick.labelsize': 7,\n",
       " 'axes.titlesize': 9}"
      ]
     },
     "execution_count": 123,
     "metadata": {},
     "output_type": "execute_result"
    }
   ],
   "source": [
    "bundles.aistats2023(column='full')"
   ]
  },
  {
   "cell_type": "code",
   "execution_count": 126,
   "metadata": {},
   "outputs": [
    {
     "data": {
      "image/png": "[encoded data removed]",
      "text/plain": [
       "<Figure size 675x250 with 4 Axes>"
      ]
     },
     "metadata": {},
     "output_type": "display_data"
    }
   ],
   "source": [
    "from tueplots import bundles\n",
    "colors = ['#4daf4a', '#377eb8', '#ff7f00']\n",
    "gps = ['GP', 'RCGP', 't-GP']\n",
    "with plt.rc_context(bundles.aistats2023(column='full')):\n",
    "    fig, ax = plt.subplots(ncols=2, nrows=2, figsize=(6.75, 2.5), sharex=True, sharey='row')\n",
    "    for i, function in enumerate(functions):\n",
    "        for j , type in enumerate(types):\n",
    "            if type == 'robust':\n",
    "                ax[0,i].plot(np.cumsum(regrets[function.name][type]),label=gps[j] , c = colors[j], ls = '--', zorder=10, dashes=(5, 5))\n",
    "                ax[1,i].plot(np.cumsum(times[function.name][type]),  c = colors[j], ls = '--', zorder=10, dashes=(5, 5))\n",
    "            else:\n",
    "                ax[0,i].plot(np.cumsum(regrets[function.name][type]),label=gps[j] , c = colors[j])\n",
    "                ax[1,i].plot(np.cumsum(times[function.name][type]),  c = colors[j])\n",
    "    ax[0,0].set_title('Six-hump Camel function')\n",
    "    ax[0,0].set_ylabel('Cumulative \\n regret')\n",
    "    ax[0,1].set_title('Branin function')\n",
    "    ax[1,0].set_ylabel('Time [s]')\n",
    "    ax[1,1].set_xlabel('Iteration')\n",
    "    ax[1,0].set_xlabel('Iteration')\n",
    "    ax[0,0].legend(fontsize=6.5, handlelength=4)\n",
    "    fig.savefig('figures/bo_no_outlier.pdf')\n",
    "plt.show()"
   ]
  }
 ],
 "metadata": {
  "kernelspec": {
   "display_name": "DSM_GP",
   "language": "python",
   "name": "python3"
  },
  "language_info": {
   "codemirror_mode": {
    "name": "ipython",
    "version": 3
   },
   "file_extension": ".py",
   "mimetype": "text/x-python",
   "name": "python",
   "nbconvert_exporter": "python",
   "pygments_lexer": "ipython3",
   "version": "3.10.11"
  },
  "orig_nbformat": 4
 },
 "nbformat": 4,
 "nbformat_minor": 2
}
