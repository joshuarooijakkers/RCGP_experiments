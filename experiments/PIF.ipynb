{
 "cells": [
  {
   "cell_type": "code",
   "execution_count": 1,
   "metadata": {},
   "outputs": [],
   "source": [
    "import sys\n",
    "import os\n",
    "\n",
    "SCRIPT_DIR = os.path.dirname(os.path.abspath(os.getcwd()))\n",
    "sys.path.append(SCRIPT_DIR)\n",
    "\n",
    "import tensorflow as tf\n",
    "import tensorflow_probability as tfp\n",
    "import numpy as np\n",
    "import gpflow\n",
    "\n",
    "from tueplots import bundles\n",
    "\n",
    "from rcgp.rcgp import RCGPR\n",
    "from rcgp.w import IMQ\n",
    "\n",
    "import matplotlib.pyplot as plt\n",
    "CB_color_cycle = ['#377eb8', '#ff7f00', '#4daf4a',\n",
    "                  '#f781bf', '#a65628', '#984ea3',\n",
    "                  '#999999', '#e41a1c', '#dede00']"
   ]
  },
  {
   "cell_type": "code",
   "execution_count": 2,
   "metadata": {},
   "outputs": [],
   "source": [
    "seed = 12\n",
    "\n",
    "np.random.seed(seed)\n",
    "tf.random.set_seed(seed)\n",
    "\n",
    "n_points = 100\n",
    "sigma_n = 0.01\n",
    "percent = 1\n",
    "percent_miss = 0.1\n",
    "\n",
    "lengthscale = 1\n",
    "variance = 1\n",
    "\n",
    "variance_out = 2\n",
    "\n",
    "kernel=gpflow.kernels.SquaredExponential(lengthscales=lengthscale, variance=variance)\n",
    "\n",
    "x = np.linspace(0, 5, n_points).reshape(n_points, 1)\n",
    "f = np.random.multivariate_normal(mean=np.zeros(len(x)) ,cov=kernel(x, x)).reshape(n_points, 1)\n",
    "\n",
    "i_obs = np.random.choice(\n",
    "    np.arange(0, n_points, 1), int(percent * n_points), replace=False)\n",
    "\n",
    "y_obs = f[i_obs] + np.random.normal(scale=sigma_n, size=len(i_obs)).reshape(len(i_obs), 1)\n",
    "x_obs = x[i_obs]\n",
    "n_obs = len(y_obs)\n",
    "\n",
    "arr1inds = x_obs[:,0].argsort()\n",
    "x_obs = x_obs[arr1inds]\n",
    "y_obs = y_obs[arr1inds]"
   ]
  },
  {
   "cell_type": "code",
   "execution_count": 3,
   "metadata": {},
   "outputs": [],
   "source": [
    "i_min = np.argmin(np.abs(y_obs))"
   ]
  },
  {
   "cell_type": "code",
   "execution_count": 4,
   "metadata": {},
   "outputs": [],
   "source": [
    "from gpflow import utilities\n",
    "def standard_posterior(X, y, sigma_n = 0.01):\n",
    "    gp = gpflow.models.GPR(\n",
    "    (X, y),\n",
    "    kernel=gpflow.kernels.SquaredExponential(lengthscales=1, variance=1),\n",
    "    noise_variance=sigma_n**2\n",
    "    )\n",
    "    X, Y = gp.data\n",
    "    n = X.shape[0]\n",
    "    kmm = gp.kernel(X)\n",
    "    kmm_plus_s = utilities.add_likelihood_noise_cov(kmm,gp.likelihood, X) + np.eye(n,dtype='float64')*1e-6\n",
    "    Lm_plus_s = tf.linalg.cholesky(kmm_plus_s)\n",
    "    A = tf.linalg.triangular_solve(Lm_plus_s, kmm, lower=True)\n",
    "    B = tf.linalg.triangular_solve(Lm_plus_s, tf.linalg.set_diag(tf.eye(n,dtype='float64'),tf.squeeze(gp.likelihood.variance_at(X), axis=-1)), lower=True)\n",
    "    C = tf.linalg.triangular_solve(Lm_plus_s, Y, lower=True)\n",
    "    Sigma = tf.matmul(A, B, transpose_a=True)\n",
    "    mu = tf.matmul(A, C, transpose_a=True)\n",
    "    return mu , Sigma+ np.eye(n,dtype='float64')*1e-6\n"
   ]
  },
  {
   "cell_type": "code",
   "execution_count": 5,
   "metadata": {},
   "outputs": [],
   "source": [
    "from rcgp.utils import add_likelihood_noise_cov\n",
    "\n",
    "def median_absolute_deviation(Y):\n",
    "    return np.median(abs(Y))\n",
    "\n",
    "def robust_posterior(X, y, sigma_n = 0.01):\n",
    "    gp = RCGPR(\n",
    "    (X, y),\n",
    "    kernel=gpflow.kernels.SquaredExponential(lengthscales=1, variance=1),\n",
    "    weighting_function=IMQ(C=1),\n",
    "    noise_variance=sigma_n**2 \n",
    ")\n",
    "    X, Y = gp.data\n",
    "    n = tf.shape(X)[0]\n",
    "    K = gp.kernel(X)\n",
    "    W = gp.weighting_function.W(X, Y)\n",
    "    W_dy = gp.weighting_function.dy(X, Y)\n",
    "    likelihood_variance = gp.likelihood.variance_at(X)\n",
    "    \n",
    "    K_plus_sW = add_likelihood_noise_cov(K, W, gp.likelihood, X)\n",
    "    L_plus_sW = tf.linalg.cholesky(K_plus_sW + tf.eye(n, dtype='float64') * 1e-06)\n",
    "\n",
    "    A = tf.linalg.triangular_solve(L_plus_sW, K, lower=True)\n",
    "    B = tf.linalg.triangular_solve(L_plus_sW, tf.linalg.set_diag(tf.eye(n,dtype='float64'),tf.squeeze(likelihood_variance*(W**-2), axis=-1)), lower=True)\n",
    "\n",
    "\n",
    "    f = y - 2*likelihood_variance*W_dy/W\n",
    "    C = tf.linalg.triangular_solve(L_plus_sW, f, lower=True)\n",
    "\n",
    "\n",
    "    Sigma = tf.matmul(A, B, transpose_a=True)\n",
    "    mu = tf.matmul(A, C, transpose_a=True)\n",
    "    return mu , Sigma+ np.eye(n,dtype='float64')*1e-6"
   ]
  },
  {
   "cell_type": "code",
   "execution_count": 6,
   "metadata": {},
   "outputs": [],
   "source": [
    "epsilons = np.linspace(-5, 5, 500)"
   ]
  },
  {
   "cell_type": "code",
   "execution_count": 7,
   "metadata": {},
   "outputs": [
    {
     "name": "stdout",
     "output_type": "stream",
     "text": [
      "WARNING:tensorflow:From /Users/matiasaltamiranomontero/.local/lib/python3.10/site-packages/tensorflow_probability/python/distributions/distribution.py:342: MultivariateNormalFullCovariance.__init__ (from tensorflow_probability.python.distributions.mvn_full_covariance) is deprecated and will be removed after 2019-12-01.\n",
      "Instructions for updating:\n",
      "`MultivariateNormalFullCovariance` is deprecated, use `MultivariateNormalTriL(loc=loc, scale_tril=tf.linalg.cholesky(covariance_matrix))` instead.\n"
     ]
    }
   ],
   "source": [
    "pif_standard = []\n",
    "mu_standard, Sigma_standard = standard_posterior(x_obs, y_obs)\n",
    "d1 = tfp.distributions.MultivariateNormalFullCovariance(tf.squeeze(mu_standard,axis=-1), Sigma_standard)\n",
    "for epsilon in epsilons:\n",
    "    x_mis = x_obs.copy()\n",
    "    y_mis = y_obs.copy()\n",
    "    y_mis[i_min] = y_mis[i_min] + epsilon\n",
    "    mu_standard, Sigma_standard = standard_posterior(x_mis, y_mis)\n",
    "    d2 = tfp.distributions.MultivariateNormalFullCovariance(tf.squeeze(mu_standard,axis=-1), Sigma_standard)\n",
    "    pif_standard.append(tfp.distributions.kl_divergence(d1,d2).numpy())\n"
   ]
  },
  {
   "cell_type": "code",
   "execution_count": 8,
   "metadata": {},
   "outputs": [],
   "source": [
    "pif_robust = []\n",
    "mu_robust, Sigma_robust = robust_posterior(x_obs, y_obs)\n",
    "d1 = tfp.distributions.MultivariateNormalFullCovariance(tf.squeeze(mu_robust,axis=-1), Sigma_robust)\n",
    "for epsilon in epsilons:\n",
    "    x_mis = x_obs.copy()\n",
    "    y_mis = y_obs.copy()\n",
    "    y_mis[i_min] = y_mis[i_min] + epsilon\n",
    "    mu_robust, Sigma_robust = robust_posterior(x_mis, y_mis)\n",
    "    d2 = tfp.distributions.MultivariateNormalFullCovariance(tf.squeeze(mu_robust,axis=-1), Sigma_robust)\n",
    "    pif_robust.append(tfp.distributions.kl_divergence(d1,d2).numpy())"
   ]
  },
  {
   "cell_type": "code",
   "execution_count": 9,
   "metadata": {},
   "outputs": [
    {
     "data": {
      "image/png": "[encoded data removed]",
      "text/plain": [
       "<Figure size 650x200 with 1 Axes>"
      ]
     },
     "metadata": {},
     "output_type": "display_data"
    }
   ],
   "source": [
    "from mpl_toolkits.axes_grid1.inset_locator import zoomed_inset_axes, inset_axes\n",
    "from mpl_toolkits.axes_grid1.inset_locator import mark_inset\n",
    "\n",
    "with plt.rc_context(bundles.aistats2023()):\n",
    "    fig, ax = plt.subplots(figsize = (3.25, 1), dpi = 200)\n",
    "    ax.plot(epsilons, pif_standard, c=CB_color_cycle[2], lw=2, label= 'GP')\n",
    "    ax.plot(epsilons, pif_robust, c=CB_color_cycle[0], lw=2, label= 'RCGP')\n",
    "    ax.set_xlabel(r\"$y_{m}-y^{c}_{m}$\")\n",
    "    ax.set_ylabel(\"PIF\")\n",
    "    plt.legend()\n",
    "\n",
    "    ax.set_xlim(-5, 5) # Limit the region for zoom\n",
    "    ax.set_ylim(0, 250)\n",
    "    \n",
    "    fig.savefig('figures/pif.pdf', format=\"pdf\", bbox_inches= \"tight\")\n",
    "    plt.show()"
   ]
  }
 ],
 "metadata": {
  "kernelspec": {
   "display_name": "DSM_GP",
   "language": "python",
   "name": "python3"
  },
  "language_info": {
   "codemirror_mode": {
    "name": "ipython",
    "version": 3
   },
   "file_extension": ".py",
   "mimetype": "text/x-python",
   "name": "python",
   "nbconvert_exporter": "python",
   "pygments_lexer": "ipython3",
   "version": "3.10.11"
  },
  "orig_nbformat": 4
 },
 "nbformat": 4,
 "nbformat_minor": 2
}
