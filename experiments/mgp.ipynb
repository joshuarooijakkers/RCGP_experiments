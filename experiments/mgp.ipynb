{
 "cells": [
  {
   "cell_type": "code",
   "execution_count": 1,
   "metadata": {},
   "outputs": [],
   "source": [
    "import sys\n",
    "import os\n",
    "\n",
    "SCRIPT_DIR = os.path.dirname(os.path.abspath(os.getcwd()))\n",
    "sys.path.append(SCRIPT_DIR)\n",
    "\n",
    "import experiments.uci.datasets as ds\n",
    "from pathlib import Path\n",
    "import tensorflow as tf\n",
    "import numpy as np\n",
    "from time import perf_counter\n",
    "\n",
    "from rcgp import mgp\n"
   ]
  },
  {
   "cell_type": "code",
   "execution_count": 6,
   "metadata": {},
   "outputs": [],
   "source": [
    "no_outliers = [ds.boston.create_dataset(Path('/tmp/benchmark_data')), \n",
    "               ds.energy.create_dataset(Path('/tmp/benchmark_data')),\n",
    "                ds.synthetic.create_dataset(Path('/tmp/benchmark_data')),\n",
    "                  ds.yacht.create_dataset(Path('/tmp/benchmark_data'))]\n",
    "time_no_outliers ={}\n",
    "mae_no_outliers = {}"
   ]
  },
  {
   "cell_type": "code",
   "execution_count": 7,
   "metadata": {},
   "outputs": [
    {
     "name": "stdout",
     "output_type": "stream",
     "text": [
      "boston\n",
      "Iteration 0\n",
      "Iteration 1\n",
      "Iteration 2\n",
      "Iteration 3\n",
      "Iteration 4\n",
      "Iteration 5\n",
      "Iteration 6\n",
      "Iteration 7\n",
      "Iteration 8\n",
      "Iteration 9\n",
      "energy\n",
      "Iteration 0\n",
      "Iteration 1\n",
      "Iteration 2\n",
      "Iteration 3\n",
      "Iteration 4\n",
      "Iteration 5\n",
      "Iteration 6\n",
      "Iteration 7\n",
      "Iteration 8\n",
      "Iteration 9\n",
      "synthetic\n",
      "Iteration 0\n",
      "Iteration 1\n",
      "Iteration 2\n",
      "Iteration 3\n",
      "Iteration 4\n",
      "Iteration 5\n",
      "Iteration 6\n",
      "Iteration 7\n",
      "Iteration 8\n",
      "Iteration 9\n",
      "yacht\n",
      "Iteration 0\n",
      "Iteration 1\n",
      "Iteration 2\n",
      "Iteration 3\n",
      "Iteration 4\n",
      "Iteration 5\n",
      "Iteration 6\n",
      "Iteration 7\n",
      "Iteration 8\n",
      "Iteration 9\n"
     ]
    }
   ],
   "source": [
    "for dataset in no_outliers:\n",
    "    print(dataset.name)\n",
    "    time_no_outliers[dataset.name] = []\n",
    "    mae_no_outliers[dataset.name] = []\n",
    "    for i in range(10):\n",
    "        print('Iteration',i)\n",
    "        X_train = dataset.train.X\n",
    "        Y_train = dataset.train.Y\n",
    "        X_test = dataset.test.X\n",
    "        Y_test = dataset.test.Y\n",
    "\n",
    "        t_before = perf_counter()\n",
    "        model = mgp.MGP((X_train,Y_train))\n",
    "        model.fit(niter=300)\n",
    "        t_after = perf_counter()\n",
    "\n",
    "        time_no_outliers[dataset.name].append(t_after-t_before)\n",
    "\n",
    "        mean, _  = model.predict_f(X_test)\n",
    "        mae_no_outliers[dataset.name].append(np.average(np.abs(mean-Y_test)))"
   ]
  },
  {
   "cell_type": "code",
   "execution_count": 8,
   "metadata": {},
   "outputs": [],
   "source": [
    "focused = [ds.boston_focused.create_dataset(Path('/tmp/benchmark_data')), \n",
    "               ds.energy_focused.create_dataset(Path('/tmp/benchmark_data')),\n",
    "                ds.synthetic_focused.create_dataset(Path('/tmp/benchmark_data')),\n",
    "                  ds.yacht_focused.create_dataset(Path('/tmp/benchmark_data'))]\n",
    "time_focused ={}\n",
    "mae_focused = {}"
   ]
  },
  {
   "cell_type": "code",
   "execution_count": 11,
   "metadata": {},
   "outputs": [
    {
     "name": "stdout",
     "output_type": "stream",
     "text": [
      "boston_focused\n",
      "Iteration 0\n",
      "Iteration 1\n",
      "Iteration 2\n",
      "Iteration 3\n",
      "Iteration 4\n",
      "Iteration 5\n",
      "Iteration 6\n",
      "Iteration 7\n",
      "Iteration 8\n",
      "Iteration 9\n",
      "energy_focused\n",
      "Iteration 0\n",
      "Iteration 1\n",
      "Iteration 2\n",
      "Iteration 3\n",
      "Iteration 4\n",
      "Iteration 5\n",
      "Iteration 6\n",
      "Iteration 7\n",
      "Iteration 8\n",
      "Iteration 9\n",
      "synthetic_focused\n",
      "Iteration 0\n",
      "Iteration 1\n",
      "Iteration 2\n",
      "Iteration 3\n",
      "Iteration 4\n",
      "Iteration 5\n",
      "Iteration 6\n",
      "Iteration 7\n",
      "Iteration 8\n",
      "Iteration 9\n",
      "yacht_focused\n",
      "Iteration 0\n",
      "Iteration 1\n",
      "Iteration 2\n",
      "Iteration 3\n",
      "Iteration 4\n",
      "Iteration 5\n",
      "Iteration 6\n",
      "Iteration 7\n",
      "Iteration 8\n",
      "Iteration 9\n"
     ]
    }
   ],
   "source": [
    "for dataset in focused:\n",
    "    print(dataset.name)\n",
    "    time_focused[dataset.name] = []\n",
    "    mae_focused[dataset.name] = []\n",
    "    for i in range(10):\n",
    "        print('Iteration',i)\n",
    "        X_train = dataset.train.X\n",
    "        Y_train = dataset.train.Y\n",
    "        X_test = dataset.test.X\n",
    "        Y_test = dataset.test.Y\n",
    "\n",
    "        t_before = perf_counter()\n",
    "        model = mgp.MGP((X_train,Y_train))\n",
    "        model.fit(niter=300)\n",
    "        t_after = perf_counter()\n",
    "\n",
    "        time_focused[dataset.name].append(t_after-t_before)\n",
    "\n",
    "        mean, _  = model.predict_f(X_test)\n",
    "        mae_focused[dataset.name].append(np.average(np.abs(mean-Y_test)))"
   ]
  },
  {
   "cell_type": "code",
   "execution_count": 12,
   "metadata": {},
   "outputs": [],
   "source": [
    "asymmetric = [ds.boston_asymmetric.create_dataset(Path('/tmp/benchmark_data')), \n",
    "               ds.energy_asymmetric.create_dataset(Path('/tmp/benchmark_data')),\n",
    "                ds.synthetic_asymmetric.create_dataset(Path('/tmp/benchmark_data')),\n",
    "                  ds.yacht_asymmetric.create_dataset(Path('/tmp/benchmark_data'))]\n",
    "time_asymmetric ={}\n",
    "mae_asymmetric = {}"
   ]
  },
  {
   "cell_type": "code",
   "execution_count": 13,
   "metadata": {},
   "outputs": [
    {
     "name": "stdout",
     "output_type": "stream",
     "text": [
      "boston_asymmetric\n",
      "Iteration 0\n",
      "Iteration 1\n",
      "Iteration 2\n",
      "Iteration 3\n",
      "Iteration 4\n",
      "Iteration 5\n",
      "Iteration 6\n",
      "Iteration 7\n",
      "Iteration 8\n",
      "Iteration 9\n",
      "energy_asymmetric\n",
      "Iteration 0\n",
      "Iteration 1\n",
      "Iteration 2\n",
      "Iteration 3\n",
      "Iteration 4\n",
      "Iteration 5\n",
      "Iteration 6\n",
      "Iteration 7\n",
      "Iteration 8\n",
      "Iteration 9\n",
      "synthetic_asymmetric\n",
      "Iteration 0\n",
      "Iteration 1\n",
      "Iteration 2\n",
      "Iteration 3\n",
      "Iteration 4\n",
      "Iteration 5\n",
      "Iteration 6\n",
      "Iteration 7\n",
      "Iteration 8\n",
      "Iteration 9\n",
      "yacht_asymmetric\n",
      "Iteration 0\n",
      "Iteration 1\n",
      "Iteration 2\n",
      "Iteration 3\n",
      "Iteration 4\n",
      "Iteration 5\n",
      "Iteration 6\n",
      "Iteration 7\n",
      "Iteration 8\n",
      "Iteration 9\n"
     ]
    }
   ],
   "source": [
    "for dataset in asymmetric:\n",
    "    print(dataset.name)\n",
    "    time_asymmetric[dataset.name] = []\n",
    "    mae_asymmetric[dataset.name] = []\n",
    "    for i in range(10):\n",
    "        print('Iteration',i)\n",
    "        X_train = dataset.train.X\n",
    "        Y_train = dataset.train.Y\n",
    "        X_test = dataset.test.X\n",
    "        Y_test = dataset.test.Y\n",
    "\n",
    "        t_before = perf_counter()\n",
    "        model = mgp.MGP((X_train,Y_train))\n",
    "        model.fit(niter=300)\n",
    "        t_after = perf_counter()\n",
    "\n",
    "        time_asymmetric[dataset.name].append(t_after-t_before)\n",
    "\n",
    "        mean, _  = model.predict_f(X_test)\n",
    "        mae_asymmetric[dataset.name].append(np.average(np.abs(mean-Y_test)))"
   ]
  },
  {
   "cell_type": "code",
   "execution_count": 17,
   "metadata": {},
   "outputs": [
    {
     "name": "stdout",
     "output_type": "stream",
     "text": [
      "time boston_focused : 16.721249229399838 (1.7080098612876364)\n",
      "time energy_focused : 33.8911520624999 (0.3660298178362115)\n",
      "time synthetic_focused : 3.0693446626042715 (0.08354763622042542)\n",
      "time yacht_focused : 4.551852358196629 (0.4247271034634426)\n",
      "----------------------------------------------------------------------------------------------------------------------\n",
      "mae boston_focused : 0.27581417378693124 (5.551115123125783e-17)\n",
      "mae energy_focused : 0.24628442706687076 (5.551115123125783e-17)\n",
      "mae synthetic_focused : 0.2331881040834282 (2.7755575615628914e-17)\n",
      "mae yacht_focused : 0.4000305445594433 (5.551115123125783e-17)\n"
     ]
    }
   ],
   "source": [
    "for dataset in focused:\n",
    "    print('time {} : {} ({})'.format(dataset.name, np.average(time_focused[dataset.name]),np.std(time_focused[dataset.name])))\n",
    "print('----------------------------------------------------------------------------------------------------------------------')\n",
    "for dataset in focused:\n",
    "    print('mae {} : {} ({})'.format(dataset.name, np.average(mae_focused[dataset.name]),np.std(mae_focused[dataset.name])))"
   ]
  },
  {
   "cell_type": "code",
   "execution_count": 18,
   "metadata": {},
   "outputs": [
    {
     "name": "stdout",
     "output_type": "stream",
     "text": [
      "time boston_asymmetric : 15.68813078730309 (0.3552125196499269)\n",
      "time energy_asymmetric : 33.380787583606434 (0.36752408753185706)\n",
      "time synthetic_asymmetric : 3.0637909002020023 (0.0413117591817978)\n",
      "time yacht_asymmetric : 3.8681726416922175 (0.07605959605256243)\n",
      "----------------------------------------------------------------------------------------------------------------------\n",
      "mae boston_asymmetric : 0.23067186463329378 (2.7755575615628914e-17)\n",
      "mae energy_asymmetric : 0.4190191368102624 (0.0)\n",
      "mae synthetic_asymmetric : 0.41703693301435757 (5.551115123125783e-17)\n",
      "mae yacht_asymmetric : 0.4069868110993299 (0.0)\n"
     ]
    }
   ],
   "source": [
    "for dataset in asymmetric:\n",
    "    print('time {} : {} ({})'.format(dataset.name, np.average(time_asymmetric[dataset.name]),np.std(time_asymmetric[dataset.name])))\n",
    "print('----------------------------------------------------------------------------------------------------------------------')\n",
    "for dataset in asymmetric:\n",
    "    print('mae {} : {} ({})'.format(dataset.name, np.average(mae_asymmetric[dataset.name]),np.std(mae_asymmetric[dataset.name])))"
   ]
  },
  {
   "cell_type": "code",
   "execution_count": 19,
   "metadata": {},
   "outputs": [
    {
     "name": "stdout",
     "output_type": "stream",
     "text": [
      "time boston : 19.386529124900697 (3.0063926660705045)\n",
      "time energy : 36.38227798740263 (2.0117903880342367)\n",
      "time synthetic : 3.0866968708025526 (0.10648657862057714)\n",
      "time yacht : 3.7704030415974557 (0.05338922160586667)\n",
      "----------------------------------------------------------------------------------------------------------------------\n",
      "mae boston : 0.2855447237668129 (0.0)\n",
      "mae energy : 0.614600306820311 (1.1102230246251565e-16)\n",
      "mae synthetic : 0.331152361068387 (0.0)\n",
      "mae yacht : 0.33255569349089587 (0.0)\n"
     ]
    }
   ],
   "source": [
    "for dataset in no_outliers:\n",
    "    print('time {} : {} ({})'.format(dataset.name, np.average(time_no_outliers[dataset.name]),np.std(time_no_outliers[dataset.name])))\n",
    "print('----------------------------------------------------------------------------------------------------------------------')\n",
    "for dataset in no_outliers:\n",
    "    print('mae {} : {} ({})'.format(dataset.name, np.average(mae_no_outliers[dataset.name]),np.std(mae_no_outliers[dataset.name])))"
   ]
  },
  {
   "cell_type": "code",
   "execution_count": 20,
   "metadata": {},
   "outputs": [],
   "source": [
    "uniform = [ds.boston_uniform.create_dataset(Path('/tmp/benchmark_data')), \n",
    "               ds.energy_uniform.create_dataset(Path('/tmp/benchmark_data')),\n",
    "                ds.synthetic_uniform.create_dataset(Path('/tmp/benchmark_data')),\n",
    "                  ds.yacht_uniform.create_dataset(Path('/tmp/benchmark_data'))]\n",
    "time_uniform ={}\n",
    "mae_uniform = {}"
   ]
  },
  {
   "cell_type": "code",
   "execution_count": 21,
   "metadata": {},
   "outputs": [
    {
     "name": "stdout",
     "output_type": "stream",
     "text": [
      "boston_uniform\n",
      "Iteration 0\n",
      "Iteration 1\n",
      "Iteration 2\n",
      "Iteration 3\n",
      "Iteration 4\n",
      "Iteration 5\n",
      "Iteration 6\n",
      "Iteration 7\n",
      "Iteration 8\n",
      "Iteration 9\n",
      "energy_uniform\n",
      "Iteration 0\n",
      "Iteration 1\n",
      "Iteration 2\n",
      "Iteration 3\n",
      "Iteration 4\n",
      "Iteration 5\n",
      "Iteration 6\n",
      "Iteration 7\n",
      "Iteration 8\n",
      "Iteration 9\n",
      "synthetic_uniform\n",
      "Iteration 0\n",
      "Iteration 1\n",
      "Iteration 2\n",
      "Iteration 3\n",
      "Iteration 4\n",
      "Iteration 5\n",
      "Iteration 6\n",
      "Iteration 7\n",
      "Iteration 8\n",
      "Iteration 9\n",
      "yacht_uniform\n",
      "Iteration 0\n",
      "Iteration 1\n",
      "Iteration 2\n",
      "Iteration 3\n",
      "Iteration 4\n",
      "Iteration 5\n",
      "Iteration 6\n",
      "Iteration 7\n",
      "Iteration 8\n",
      "Iteration 9\n"
     ]
    }
   ],
   "source": [
    "for dataset in uniform:\n",
    "    print(dataset.name)\n",
    "    time_uniform[dataset.name] = []\n",
    "    mae_uniform[dataset.name] = []\n",
    "    for i in range(10):\n",
    "        print('Iteration',i)\n",
    "        X_train = dataset.train.X\n",
    "        Y_train = dataset.train.Y\n",
    "        X_test = dataset.test.X\n",
    "        Y_test = dataset.test.Y\n",
    "\n",
    "        t_before = perf_counter()\n",
    "        model = mgp.MGP((X_train,Y_train))\n",
    "        model.fit(niter=300)\n",
    "        t_after = perf_counter()\n",
    "\n",
    "        time_uniform[dataset.name].append(t_after-t_before)\n",
    "\n",
    "        mean, _  = model.predict_f(X_test)\n",
    "        mae_uniform[dataset.name].append(np.average(np.abs(mean-Y_test)))"
   ]
  },
  {
   "cell_type": "code",
   "execution_count": 24,
   "metadata": {},
   "outputs": [
    {
     "name": "stdout",
     "output_type": "stream",
     "text": [
      "time boston_uniform : 44.341326133406255 (0.8077057039081287)\n",
      "time energy_uniform : 83.328233954194 (3.2206730641815695)\n",
      "time synthetic_uniform : 13.636551554198377 (0.620083629876371)\n",
      "time yacht_uniform : 15.512767999910285 (0.7680246563086955)\n",
      "----------------------------------------------------------------------------------------------------------------------\n",
      "mae boston_uniform : 0.24425333689081902 (5.551115123125783e-17)\n",
      "mae energy_uniform : 0.23418421016983 (2.7755575615628914e-17)\n",
      "mae synthetic_uniform : 0.2749462849684753 (0.0)\n",
      "mae yacht_uniform : 0.34509507619214697 (0.0)\n"
     ]
    }
   ],
   "source": [
    "for dataset in uniform:\n",
    "    print('time {} : {} ({})'.format(dataset.name, np.average(time_uniform[dataset.name]),np.std(time_uniform[dataset.name])))\n",
    "print('----------------------------------------------------------------------------------------------------------------------')\n",
    "for dataset in uniform:\n",
    "    print('mae {} : {} ({})'.format(dataset.name, np.average(mae_uniform[dataset.name]),np.std(mae_uniform[dataset.name])))"
   ]
  },
  {
   "cell_type": "code",
   "execution_count": null,
   "metadata": {},
   "outputs": [],
   "source": []
  }
 ],
 "metadata": {
  "kernelspec": {
   "display_name": "DSM_GP",
   "language": "python",
   "name": "python3"
  },
  "language_info": {
   "codemirror_mode": {
    "name": "ipython",
    "version": 3
   },
   "file_extension": ".py",
   "mimetype": "text/x-python",
   "name": "python",
   "nbconvert_exporter": "python",
   "pygments_lexer": "ipython3",
   "version": "3.10.11"
  }
 },
 "nbformat": 4,
 "nbformat_minor": 2
}
