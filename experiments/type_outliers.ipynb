{
 "cells": [
  {
   "cell_type": "code",
   "execution_count": 1,
   "metadata": {},
   "outputs": [],
   "source": [
    "import sys\n",
    "import os\n",
    "\n",
    "SCRIPT_DIR = os.path.dirname(os.path.abspath(os.getcwd()))\n",
    "sys.path.append(SCRIPT_DIR)\n",
    "\n",
    "import experiments.uci.datasets as ds\n",
    "\n",
    "from tueplots import bundles\n",
    "\n",
    "import matplotlib.pyplot as plt\n",
    "CB_color_cycle = ['#377eb8', '#ff7f00', '#4daf4a',\n",
    "                  '#f781bf', '#a65628', '#984ea3',\n",
    "                  '#999999', '#e41a1c', '#dede00']"
   ]
  },
  {
   "cell_type": "code",
   "execution_count": 2,
   "metadata": {},
   "outputs": [
    {
     "data": {
      "image/png": "[encoded data removed]",
      "text/plain": [
       "<Figure size 325x150 with 2 Axes>"
      ]
     },
     "metadata": {},
     "output_type": "display_data"
    }
   ],
   "source": [
    "models = ['SVGP', 'RCSVGP']\n",
    "colors = [CB_color_cycle[2],CB_color_cycle[0]]\n",
    "with plt.rc_context(bundles.aistats2023()):\n",
    "    fig, ax = plt.subplots(ncols=2, sharey=True,figsize=(3.25, 1.5))\n",
    "    data = ds.synthetic_asymmetric.create_dataset('').train\n",
    "    inliers = data.Y>-2.3\n",
    "    outliers = data.Y<=-2.3\n",
    "    ax[0].plot(data.X[inliers],data.Y[inliers], 'k.', ms=2, alpha=0.5)\n",
    "    ax[0].scatter(data.X[outliers],data.Y[outliers], marker = 'x', alpha=1, color= 'r', s=10,linewidths=0.8)\n",
    "    data = ds.synthetic_focused.create_dataset('').train\n",
    "    inliers = data.Y>-2.3\n",
    "    outliers = data.Y<=-2.3\n",
    "    ax[1].plot(data.X[inliers],data.Y[inliers], 'k.', ms=2, alpha=0.5, label='Data')\n",
    "    ax[1].scatter(data.X[outliers],data.Y[outliers], marker = 'x', alpha=1, color= 'r', s=10, label = 'Outliers',linewidths=0.5)\n",
    "    ax[0].set_title('Asymmetric')\n",
    "    ax[1].set_title('Focused')\n",
    "    ax[1].legend()\n",
    "    fig.savefig('figures/outliers.pdf', format=\"pdf\", bbox_inches= \"tight\")\n",
    "plt.show()"
   ]
  },
  {
   "cell_type": "code",
   "execution_count": null,
   "metadata": {},
   "outputs": [],
   "source": []
  }
 ],
 "metadata": {
  "kernelspec": {
   "display_name": "DSM_GP",
   "language": "python",
   "name": "python3"
  },
  "language_info": {
   "codemirror_mode": {
    "name": "ipython",
    "version": 3
   },
   "file_extension": ".py",
   "mimetype": "text/x-python",
   "name": "python",
   "nbconvert_exporter": "python",
   "pygments_lexer": "ipython3",
   "version": "3.10.11"
  }
 },
 "nbformat": 4,
 "nbformat_minor": 2
}
